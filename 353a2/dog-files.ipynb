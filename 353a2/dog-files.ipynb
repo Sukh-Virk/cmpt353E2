{
 "cells": [
  {
   "cell_type": "code",
   "execution_count": null,
   "metadata": {},
   "outputs": [],
   "source": [
    "import pandas as pd\n",
    "import matplotlib.pyplot as plt\n",
    "from scipy.stats import linregress\n",
    "import re"
   ]
  },
  {
   "cell_type": "code",
   "execution_count": null,
   "metadata": {},
   "outputs": [],
   "source": [
    "data = pd.read_csv(\"dog_rates_tweets.csv\", parse_dates=[\"created_at\"])\n",
    "def extract_rating(text):\n",
    "    match = re.search(r'(\\d+(\\.\\d+)?)/10', text)\n",
    "    if match:\n",
    "        return float(match.group(1))\n",
    "    return None"
   ]
  },
  {
   "cell_type": "code",
   "execution_count": null,
   "metadata": {},
   "outputs": [],
   "source": [
    "data['rating'] = data['text'].apply(extract_rating)\n",
    "\n",
    "data = data[data['rating'].notnull()]\n",
    "\n"
   ]
  },
  {
   "cell_type": "code",
   "execution_count": null,
   "metadata": {},
   "outputs": [],
   "source": [
    "data = data[data['rating'] <= 25]\n",
    "\n",
    "# Add a timestamp column for linear regression\n",
    "data['timestamp'] = data['created_at'].apply(lambda x: x.timestamp())\n"
   ]
  },
  {
   "cell_type": "code",
   "execution_count": null,
   "metadata": {},
   "outputs": [],
   "source": [
    "fit = linregress(data['timestamp'], data['rating'])\n",
    "\n",
    "# Add the predicted values to the DataFrame\n",
    "data['prediction'] = fit.slope * data['timestamp'] + fit.intercept"
   ]
  },
  {
   "cell_type": "code",
   "execution_count": null,
   "metadata": {},
   "outputs": [],
   "source": [
    "print(data.head())"
   ]
  },
  {
   "cell_type": "code",
   "execution_count": null,
   "metadata": {},
   "outputs": [],
   "source": [
    "print(\"Slope:\", fit.slope)\n",
    "print(\"Intercept:\", fit.intercept)"
   ]
  },
  {
   "cell_type": "code",
   "execution_count": null,
   "metadata": {},
   "outputs": [],
   "source": [
    "plt.figure(figsize=(10, 6))\n",
    "plt.xticks(rotation=25)  # Rotate x-axis labels\n",
    "plt.plot(data['created_at'], data['rating'], 'b.', alpha=0.5)  # Scatter points\n",
    "plt.plot(data['created_at'], data['prediction'], 'r-', linewidth=3)  # Best-fit line\n",
    "plt.xlabel(\"Date\")\n",
    "plt.ylabel(\"Rating\")\n",
    "plt.title(\"Dog Ratings Over Time\")\n",
    "plt.show()"
   ]
  }
 ],
 "metadata": {
  "kernelspec": {
   "display_name": "Python 3",
   "language": "python",
   "name": "python3"
  },
  "language_info": {
   "codemirror_mode": {
    "name": "ipython",
    "version": 3
   },
   "file_extension": ".py",
   "mimetype": "text/x-python",
   "name": "python",
   "nbconvert_exporter": "python",
   "pygments_lexer": "ipython3",
   "version": "3.10.0rc2"
  }
 },
 "nbformat": 4,
 "nbformat_minor": 2
}
